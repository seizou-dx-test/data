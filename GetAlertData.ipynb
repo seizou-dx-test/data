{
 "cells": [
  {
   "cell_type": "markdown",
   "metadata": {},
   "source": [
    "# 課題\n",
    "* 市区町村名の重複を解決する。\n",
    "* GitHubへのPush方法を調査する。"
   ]
  },
  {
   "cell_type": "code",
   "execution_count": 5,
   "metadata": {},
   "outputs": [
    {
     "name": "stdout",
     "output_type": "stream",
     "text": [
      "http://www.data.jma.go.jp/developer/xml/data/298e4de0-665f-372d-a594-d6a0aeaa3b3a.xml\n",
      "http://www.data.jma.go.jp/developer/xml/data/cda9ded8-3692-3ae8-aa06-7c344eb1af01.xml\n",
      "http://www.data.jma.go.jp/developer/xml/data/3e91126b-eb47-3461-94bb-b9b927e9634d.xml\n",
      "http://www.data.jma.go.jp/developer/xml/data/1c09be2d-c4a8-3e5f-afba-5ae463a953b2.xml\n",
      "http://www.data.jma.go.jp/developer/xml/data/1d13ae0c-3e48-35b3-abc0-567c171186c7.xml\n",
      "http://www.data.jma.go.jp/developer/xml/data/0b75ac75-031f-3e5c-a749-f0b43c3fdcf4.xml\n",
      "http://www.data.jma.go.jp/developer/xml/data/63114e15-49a9-3996-9d20-b1bec27e0da2.xml\n",
      "http://www.data.jma.go.jp/developer/xml/data/076b9adc-de69-3d1b-b750-c7f39cc80b29.xml\n",
      "http://www.data.jma.go.jp/developer/xml/data/3eaedb8d-200a-3db5-8579-cb0e5a4ca1a0.xml\n"
     ]
    }
   ],
   "source": [
    "import xml.etree.ElementTree as ET \n",
    "import requests\n",
    "import csv\n",
    "\n",
    "proxies = {\n",
    "  'http': 'gienah.in.dcs.co.jp:8080'\n",
    "}\n",
    "url = 'http://www.data.jma.go.jp/developer/xml/feed/extra.xml'\n",
    "\n",
    "response = requests.get(url, proxies=proxies)\n",
    "\n",
    "with open('alert.csv', 'w', encoding='utf_8', newline='') as csvfile:\n",
    "\n",
    "    writer = csv.writer(csvfile)\n",
    "    writer.writerow(['種別','名称','エリア(市区町村)'])\n",
    "    \n",
    "    if response.status_code != 200:\n",
    "        sys.exit()\n",
    "\n",
    "    ns_feed = '{http://www.w3.org/2005/Atom}'\n",
    "    ns_detail = '{http://xml.kishou.go.jp/jmaxml1/body/meteorology1/}'\n",
    "    \n",
    "    response.encoding = response.apparent_encoding\n",
    "    root = ET.fromstring(response.text)\n",
    "    \n",
    "    for entry in root.iter(ns_feed+'entry'):\n",
    "        \n",
    "        #「気象警報・注意報（Ｈ２７）」を使用\n",
    "        if entry.find(ns_feed+'title').text != '気象警報・注意報（Ｈ２７）':\n",
    "            continue\n",
    "\n",
    "        # 明細XMLを取得\n",
    "        link = entry.find(ns_feed+'link').attrib['href']        \n",
    "        print(link)\n",
    "        \n",
    "        response_detail = requests.get(link, proxies=proxies)\n",
    "        response_detail.encoding = response_detail.apparent_encoding        \n",
    "        detail_root = ET.fromstring(response_detail.text)\n",
    "        \n",
    "        # 「気象警報・注意報（市町村等）」を使用\n",
    "        warning = detail_root.find(ns_detail + 'Body/' + ns_detail +'Warning[@type=\"気象警報・注意報（市町村等）\"]')\n",
    "        \n",
    "        if warning is None:\n",
    "            continue\n",
    "                    \n",
    "        for item in warning.iter(ns_detail + 'Item'):\n",
    "                        \n",
    "\n",
    "            name = item.find(ns_detail + 'Kind/' + ns_detail + 'Name')\n",
    "            status = item.find(ns_detail + 'Kind/' + ns_detail + 'Status')\n",
    "            area = item.find(ns_detail + 'Area/' + ns_detail + 'Name')\n",
    "\n",
    "            if kind_code is None or kind_name is None:\n",
    "                continue\n",
    "            if status.text == '解除': #「解除」ステータスは除く\n",
    "                continue\n",
    "                \n",
    "            if '警報' in (name.text):\n",
    "                kind = '警報'\n",
    "            elif '注意報' in (name.text):\n",
    "                kind = '注意報'\n",
    "\n",
    "            #print([level_id, level, kind_code.text, kind_name.text, area_name.text, status.text])\n",
    "            writer.writerow([kind, name.text, area.text])"
   ]
  },
  {
   "cell_type": "code",
   "execution_count": 5,
   "metadata": {},
   "outputs": [
    {
     "name": "stdout",
     "output_type": "stream",
     "text": [
      "Collecting requests\n",
      "  Downloading requests-2.24.0-py2.py3-none-any.whl (61 kB)\n",
      "Collecting certifi>=2017.4.17\n",
      "  Downloading certifi-2020.6.20-py2.py3-none-any.whl (156 kB)\n",
      "Collecting urllib3!=1.25.0,!=1.25.1,<1.26,>=1.21.1\n",
      "  Downloading urllib3-1.25.10-py2.py3-none-any.whl (127 kB)\n",
      "Collecting chardet<4,>=3.0.2\n",
      "  Downloading chardet-3.0.4-py2.py3-none-any.whl (133 kB)\n",
      "Collecting idna<3,>=2.5\n",
      "  Downloading idna-2.10-py2.py3-none-any.whl (58 kB)\n",
      "Installing collected packages: certifi, urllib3, chardet, idna, requests\n",
      "Successfully installed certifi-2020.6.20 chardet-3.0.4 idna-2.10 requests-2.24.0 urllib3-1.25.10\n"
     ]
    },
    {
     "name": "stderr",
     "output_type": "stream",
     "text": [
      "WARNING: You are using pip version 20.1.1; however, version 20.2.3 is available.\n",
      "You should consider upgrading via the 'c:\\users\\u031330\\appdata\\local\\programs\\python\\python38\\python.exe -m pip install --upgrade pip' command.\n"
     ]
    }
   ],
   "source": [
    "!pip --proxy=gienah.in.dcs.co.jp:8080 --trusted-host pypi.python.org --trusted-host files.pythonhosted.org --trusted-host pypi.org install requests"
   ]
  }
 ],
 "metadata": {
  "kernelspec": {
   "display_name": "Python 3",
   "language": "python",
   "name": "python3"
  },
  "language_info": {
   "codemirror_mode": {
    "name": "ipython",
    "version": 3
   },
   "file_extension": ".py",
   "mimetype": "text/x-python",
   "name": "python",
   "nbconvert_exporter": "python",
   "pygments_lexer": "ipython3",
   "version": "3.8.5"
  }
 },
 "nbformat": 4,
 "nbformat_minor": 2
}
